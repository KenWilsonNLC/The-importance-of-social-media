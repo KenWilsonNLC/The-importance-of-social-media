{
 "cells": [
  {
   "cell_type": "code",
   "execution_count": 1,
   "id": "0ce17da0-8431-4cbb-a1de-4b955d8a6c3c",
   "metadata": {},
   "outputs": [],
   "source": [
    "import requests\n",
    "import pandas as pd\n",
    "from bs4 import BeautifulSoup"
   ]
  },
  {
   "cell_type": "code",
   "execution_count": 2,
   "id": "ac9ca4ce-1ef8-46cd-bb29-c70872e87298",
   "metadata": {},
   "outputs": [],
   "source": [
    "url = \"https://soax.com/research/time-spent-on-social-media\"\n",
    "\n",
    "response = requests.get(url)\n",
    "\n",
    "if response.status_code == 200:\n",
    "    soup = BeautifulSoup(response.content, 'html.parser')\n",
    "    \n",
    "    tables = soup.find_all('table')\n",
    "    sixth_table = tables[5]\n",
    "\n",
    "    data = []\n",
    "    rows = sixth_table.find_all('tr')\n",
    "    for row in rows[1:]:\n",
    "        cols = row.find_all('td')\n",
    "        data.append([col.text.strip() for col in cols])\n",
    "\n",
    "    sm_users = pd.DataFrame(data, columns=['year', 'SM Users (in billion)', 'Change'])"
   ]
  },
  {
   "cell_type": "code",
   "execution_count": 3,
   "id": "146fca19-5e45-4a98-b7b6-1e7d5038739f",
   "metadata": {},
   "outputs": [
    {
     "data": {
      "text/html": [
       "<div>\n",
       "<style scoped>\n",
       "    .dataframe tbody tr th:only-of-type {\n",
       "        vertical-align: middle;\n",
       "    }\n",
       "\n",
       "    .dataframe tbody tr th {\n",
       "        vertical-align: top;\n",
       "    }\n",
       "\n",
       "    .dataframe thead th {\n",
       "        text-align: right;\n",
       "    }\n",
       "</style>\n",
       "<table border=\"1\" class=\"dataframe\">\n",
       "  <thead>\n",
       "    <tr style=\"text-align: right;\">\n",
       "      <th></th>\n",
       "      <th>year</th>\n",
       "      <th>SM Users (in billion)</th>\n",
       "      <th>Change</th>\n",
       "    </tr>\n",
       "  </thead>\n",
       "  <tbody>\n",
       "    <tr>\n",
       "      <th>0</th>\n",
       "      <td>2028*</td>\n",
       "      <td>6.05</td>\n",
       "      <td>↑ 3.42%</td>\n",
       "    </tr>\n",
       "    <tr>\n",
       "      <th>1</th>\n",
       "      <td>2027*</td>\n",
       "      <td>5.85</td>\n",
       "      <td>↑ 3.54%</td>\n",
       "    </tr>\n",
       "    <tr>\n",
       "      <th>2</th>\n",
       "      <td>2026*</td>\n",
       "      <td>5.65</td>\n",
       "      <td>↑ 4.24%</td>\n",
       "    </tr>\n",
       "    <tr>\n",
       "      <th>3</th>\n",
       "      <td>2025*</td>\n",
       "      <td>5.42</td>\n",
       "      <td>↑ 4.84%</td>\n",
       "    </tr>\n",
       "    <tr>\n",
       "      <th>4</th>\n",
       "      <td>2024</td>\n",
       "      <td>5.17</td>\n",
       "      <td>↑ 5.51%</td>\n",
       "    </tr>\n",
       "    <tr>\n",
       "      <th>5</th>\n",
       "      <td>2023</td>\n",
       "      <td>4.9</td>\n",
       "      <td>↑ 6.75%</td>\n",
       "    </tr>\n",
       "    <tr>\n",
       "      <th>6</th>\n",
       "      <td>2022</td>\n",
       "      <td>4.59</td>\n",
       "      <td>↑ 7.75%</td>\n",
       "    </tr>\n",
       "    <tr>\n",
       "      <th>7</th>\n",
       "      <td>2021</td>\n",
       "      <td>4.26</td>\n",
       "      <td>↑ 8.95%</td>\n",
       "    </tr>\n",
       "    <tr>\n",
       "      <th>8</th>\n",
       "      <td>2020</td>\n",
       "      <td>3.91</td>\n",
       "      <td>↑ 11.4%</td>\n",
       "    </tr>\n",
       "    <tr>\n",
       "      <th>9</th>\n",
       "      <td>2019</td>\n",
       "      <td>3.51</td>\n",
       "      <td>–</td>\n",
       "    </tr>\n",
       "  </tbody>\n",
       "</table>\n",
       "</div>"
      ],
      "text/plain": [
       "    year SM Users (in billion)   Change\n",
       "0  2028*                  6.05  ↑ 3.42%\n",
       "1  2027*                  5.85  ↑ 3.54%\n",
       "2  2026*                  5.65  ↑ 4.24%\n",
       "3  2025*                  5.42  ↑ 4.84%\n",
       "4   2024                  5.17  ↑ 5.51%\n",
       "5   2023                   4.9  ↑ 6.75%\n",
       "6   2022                  4.59  ↑ 7.75%\n",
       "7   2021                  4.26  ↑ 8.95%\n",
       "8   2020                  3.91  ↑ 11.4%\n",
       "9   2019                  3.51        –"
      ]
     },
     "execution_count": 3,
     "metadata": {},
     "output_type": "execute_result"
    }
   ],
   "source": [
    "sm_users"
   ]
  },
  {
   "cell_type": "code",
   "execution_count": null,
   "id": "935cc15b-e7e0-484d-b69e-2a5c7ce19b94",
   "metadata": {},
   "outputs": [],
   "source": []
  },
  {
   "cell_type": "code",
   "execution_count": null,
   "id": "539d6344-267f-4bfb-85ed-fb15a76962c2",
   "metadata": {},
   "outputs": [],
   "source": []
  },
  {
   "cell_type": "code",
   "execution_count": null,
   "id": "8c7fef20-52f6-48fa-a4dc-1d8730e64ad4",
   "metadata": {},
   "outputs": [],
   "source": []
  },
  {
   "cell_type": "code",
   "execution_count": null,
   "id": "7f0ef5ec-9229-440e-9984-7dd0da313eb3",
   "metadata": {},
   "outputs": [],
   "source": []
  },
  {
   "cell_type": "code",
   "execution_count": null,
   "id": "d2088a3e-2c16-4ab0-bed1-ed7c475ca098",
   "metadata": {},
   "outputs": [],
   "source": []
  },
  {
   "cell_type": "code",
   "execution_count": null,
   "id": "439a4e63-a0de-49b4-b95c-70df53925fab",
   "metadata": {},
   "outputs": [],
   "source": []
  }
 ],
 "metadata": {
  "kernelspec": {
   "display_name": "Python 3 (ipykernel)",
   "language": "python",
   "name": "python3"
  },
  "language_info": {
   "codemirror_mode": {
    "name": "ipython",
    "version": 3
   },
   "file_extension": ".py",
   "mimetype": "text/x-python",
   "name": "python",
   "nbconvert_exporter": "python",
   "pygments_lexer": "ipython3",
   "version": "3.11.7"
  }
 },
 "nbformat": 4,
 "nbformat_minor": 5
}

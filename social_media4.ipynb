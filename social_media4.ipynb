{
 "cells": [
  {
   "cell_type": "code",
   "execution_count": 1,
   "id": "8aed5d7e-5b71-4e05-bd3b-0e00eeef87c6",
   "metadata": {},
   "outputs": [],
   "source": [
    "import requests\n",
    "import pandas as pd\n",
    "from bs4 import BeautifulSoup"
   ]
  },
  {
   "cell_type": "code",
   "execution_count": 2,
   "id": "cd77b016-bf38-4352-b8d6-4bb448dcc3e4",
   "metadata": {},
   "outputs": [],
   "source": [
    "url = \"https://soax.com/research/time-spent-on-social-media\"\n",
    "\n",
    "response = requests.get(url)\n",
    "soup = BeautifulSoup(response.content, 'html.parser')\n",
    "\n",
    "tables = soup.find_all('table')\n",
    "third_table = tables[2]\n",
    "\n",
    "platforms = []\n",
    "time_spent = []\n",
    "\n",
    "for row in third_table.find_all('tr')[1:]:\n",
    "    cols = row.find_all('td')\n",
    "    if len(cols) == 2:\n",
    "        platform = cols[0].text.strip()\n",
    "        time = cols[1].text.strip()\n",
    "        \n",
    "        platforms.append(platform)\n",
    "        time_spent.append(time)\n",
    "\n",
    "data = {\n",
    "    'Platform': platforms,\n",
    "    'Time Spent (Hours)': time_spent\n",
    "}\n",
    "hpm = pd.DataFrame(data)"
   ]
  },
  {
   "cell_type": "code",
   "execution_count": 3,
   "id": "ebb3f3ba-6163-424d-a3ad-0e8337342d4a",
   "metadata": {},
   "outputs": [
    {
     "data": {
      "text/html": [
       "<div>\n",
       "<style scoped>\n",
       "    .dataframe tbody tr th:only-of-type {\n",
       "        vertical-align: middle;\n",
       "    }\n",
       "\n",
       "    .dataframe tbody tr th {\n",
       "        vertical-align: top;\n",
       "    }\n",
       "\n",
       "    .dataframe thead th {\n",
       "        text-align: right;\n",
       "    }\n",
       "</style>\n",
       "<table border=\"1\" class=\"dataframe\">\n",
       "  <thead>\n",
       "    <tr style=\"text-align: right;\">\n",
       "      <th></th>\n",
       "      <th>Platform</th>\n",
       "      <th>Time Spent (Hours)</th>\n",
       "    </tr>\n",
       "  </thead>\n",
       "  <tbody>\n",
       "    <tr>\n",
       "      <th>0</th>\n",
       "      <td>TikTok</td>\n",
       "      <td>34:00:00</td>\n",
       "    </tr>\n",
       "    <tr>\n",
       "      <th>1</th>\n",
       "      <td>YouTube</td>\n",
       "      <td>28:05:00</td>\n",
       "    </tr>\n",
       "    <tr>\n",
       "      <th>2</th>\n",
       "      <td>Facebook</td>\n",
       "      <td>19:47:00</td>\n",
       "    </tr>\n",
       "    <tr>\n",
       "      <th>3</th>\n",
       "      <td>WhatsApp Messenger</td>\n",
       "      <td>17:06:00</td>\n",
       "    </tr>\n",
       "    <tr>\n",
       "      <th>4</th>\n",
       "      <td>Instagram</td>\n",
       "      <td>15:50:00</td>\n",
       "    </tr>\n",
       "    <tr>\n",
       "      <th>5</th>\n",
       "      <td>Line</td>\n",
       "      <td>8:14:00</td>\n",
       "    </tr>\n",
       "    <tr>\n",
       "      <th>6</th>\n",
       "      <td>X (Twitter)</td>\n",
       "      <td>4:40:00</td>\n",
       "    </tr>\n",
       "    <tr>\n",
       "      <th>7</th>\n",
       "      <td>Telegram</td>\n",
       "      <td>3:45:00</td>\n",
       "    </tr>\n",
       "    <tr>\n",
       "      <th>8</th>\n",
       "      <td>Snapchat</td>\n",
       "      <td>3:33:00</td>\n",
       "    </tr>\n",
       "    <tr>\n",
       "      <th>9</th>\n",
       "      <td>Facebook Messenger</td>\n",
       "      <td>3:21:00</td>\n",
       "    </tr>\n",
       "    <tr>\n",
       "      <th>10</th>\n",
       "      <td>Pinterest</td>\n",
       "      <td>1:49:00</td>\n",
       "    </tr>\n",
       "    <tr>\n",
       "      <th>11</th>\n",
       "      <td>LinkedIn</td>\n",
       "      <td>0:51:00</td>\n",
       "    </tr>\n",
       "  </tbody>\n",
       "</table>\n",
       "</div>"
      ],
      "text/plain": [
       "              Platform Time Spent (Hours)\n",
       "0               TikTok           34:00:00\n",
       "1              YouTube           28:05:00\n",
       "2             Facebook           19:47:00\n",
       "3   WhatsApp Messenger           17:06:00\n",
       "4            Instagram           15:50:00\n",
       "5                 Line            8:14:00\n",
       "6          X (Twitter)            4:40:00\n",
       "7             Telegram            3:45:00\n",
       "8             Snapchat            3:33:00\n",
       "9   Facebook Messenger            3:21:00\n",
       "10           Pinterest            1:49:00\n",
       "11            LinkedIn            0:51:00"
      ]
     },
     "execution_count": 3,
     "metadata": {},
     "output_type": "execute_result"
    }
   ],
   "source": [
    "hpm"
   ]
  },
  {
   "cell_type": "code",
   "execution_count": null,
   "id": "63687149-bcb4-4cd2-9830-396d4bc4384f",
   "metadata": {},
   "outputs": [],
   "source": []
  },
  {
   "cell_type": "code",
   "execution_count": null,
   "id": "c6327ca6-5212-42c5-bc5c-182654ae616c",
   "metadata": {},
   "outputs": [],
   "source": []
  },
  {
   "cell_type": "code",
   "execution_count": null,
   "id": "b85868c0-0c05-4fa1-b278-5fd895031e58",
   "metadata": {},
   "outputs": [],
   "source": []
  },
  {
   "cell_type": "code",
   "execution_count": null,
   "id": "20a5e901-34d2-42a6-80c4-afd4297b3e65",
   "metadata": {},
   "outputs": [],
   "source": []
  },
  {
   "cell_type": "code",
   "execution_count": null,
   "id": "b696c4c3-6238-4827-aa70-435b26eb2234",
   "metadata": {},
   "outputs": [],
   "source": []
  },
  {
   "cell_type": "code",
   "execution_count": null,
   "id": "9b0334b6-3f3f-4734-8ba1-9122d85447ea",
   "metadata": {},
   "outputs": [],
   "source": []
  },
  {
   "cell_type": "code",
   "execution_count": null,
   "id": "102d27f1-35fd-4144-ac71-766ebde8702b",
   "metadata": {},
   "outputs": [],
   "source": []
  },
  {
   "cell_type": "code",
   "execution_count": null,
   "id": "255a1b98-a2e2-4ea4-aa7e-bdace46f06a5",
   "metadata": {},
   "outputs": [],
   "source": []
  },
  {
   "cell_type": "code",
   "execution_count": null,
   "id": "fb5b1477-7950-4669-b292-56a93c76e68e",
   "metadata": {},
   "outputs": [],
   "source": []
  }
 ],
 "metadata": {
  "kernelspec": {
   "display_name": "Python 3 (ipykernel)",
   "language": "python",
   "name": "python3"
  },
  "language_info": {
   "codemirror_mode": {
    "name": "ipython",
    "version": 3
   },
   "file_extension": ".py",
   "mimetype": "text/x-python",
   "name": "python",
   "nbconvert_exporter": "python",
   "pygments_lexer": "ipython3",
   "version": "3.11.7"
  }
 },
 "nbformat": 4,
 "nbformat_minor": 5
}

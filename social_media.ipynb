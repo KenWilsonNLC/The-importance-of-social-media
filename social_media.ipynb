{
 "cells": [
  {
   "cell_type": "code",
   "execution_count": 1,
   "id": "742b9ac3-0762-46a3-905e-51a885422542",
   "metadata": {},
   "outputs": [],
   "source": [
    "import pandas as pd\n",
    "import requests\n",
    "from bs4 import BeautifulSoup"
   ]
  },
  {
   "cell_type": "code",
   "execution_count": 2,
   "id": "cb10ea1f-a899-48a9-9573-84b744048d4f",
   "metadata": {},
   "outputs": [
    {
     "name": "stdout",
     "output_type": "stream",
     "text": [
      "mismatch\n"
     ]
    }
   ],
   "source": [
    "url = \"https://en.wikipedia.org/wiki/Global_Internet_usage\"\n",
    "\n",
    "response = requests.get(url)\n",
    "\n",
    "if response.status_code == 200:\n",
    "    soup = BeautifulSoup(response.content, 'html.parser')\n",
    "\n",
    "    table = soup.find('table', {'class': 'wikitable'})\n",
    "\n",
    "    data = []\n",
    "\n",
    "    headers = [header.get_text(strip=True) for header in table.find_all('th')]\n",
    "    \n",
    "    for row in table.find_all('tr')[1:]:\n",
    "        cols = row.find_all(['th', 'td'])\n",
    "        cols = [col.get_text(strip=True) for col in cols]\n",
    "        if cols:\n",
    "            data.append(cols)\n",
    "\n",
    "    wwu = pd.DataFrame(data)\n",
    "\n",
    "    if len(headers) - 1 == wwu.shape[1]:\n",
    "        wwu.columns = headers[1:]\n",
    "    else:\n",
    "        print(\"mismatch\")\n"
   ]
  },
  {
   "cell_type": "code",
   "execution_count": 3,
   "id": "ad1d51ae-f48f-455f-9dcc-bbf8f3492a2d",
   "metadata": {},
   "outputs": [
    {
     "data": {
      "text/html": [
       "<div>\n",
       "<style scoped>\n",
       "    .dataframe tbody tr th:only-of-type {\n",
       "        vertical-align: middle;\n",
       "    }\n",
       "\n",
       "    .dataframe tbody tr th {\n",
       "        vertical-align: top;\n",
       "    }\n",
       "\n",
       "    .dataframe thead th {\n",
       "        text-align: right;\n",
       "    }\n",
       "</style>\n",
       "<table border=\"1\" class=\"dataframe\">\n",
       "  <thead>\n",
       "    <tr style=\"text-align: right;\">\n",
       "      <th></th>\n",
       "      <th>0</th>\n",
       "      <th>1</th>\n",
       "      <th>2</th>\n",
       "      <th>3</th>\n",
       "      <th>4</th>\n",
       "    </tr>\n",
       "  </thead>\n",
       "  <tbody>\n",
       "    <tr>\n",
       "      <th>0</th>\n",
       "      <td>World population (billions)[8]</td>\n",
       "      <td>6.5</td>\n",
       "      <td>6.9</td>\n",
       "      <td>7.4</td>\n",
       "      <td>8.0</td>\n",
       "    </tr>\n",
       "    <tr>\n",
       "      <th>1</th>\n",
       "      <td>Worldwide</td>\n",
       "      <td>16%</td>\n",
       "      <td>30%</td>\n",
       "      <td>48%</td>\n",
       "      <td>67%</td>\n",
       "    </tr>\n",
       "    <tr>\n",
       "      <th>2</th>\n",
       "      <td>In developing world</td>\n",
       "      <td>8%</td>\n",
       "      <td>21%</td>\n",
       "      <td>41.3%</td>\n",
       "      <td>60%</td>\n",
       "    </tr>\n",
       "    <tr>\n",
       "      <th>3</th>\n",
       "      <td>In developed world</td>\n",
       "      <td>51%</td>\n",
       "      <td>67%</td>\n",
       "      <td>81%</td>\n",
       "      <td>93%</td>\n",
       "    </tr>\n",
       "  </tbody>\n",
       "</table>\n",
       "</div>"
      ],
      "text/plain": [
       "                                0    1    2      3    4\n",
       "0  World population (billions)[8]  6.5  6.9    7.4  8.0\n",
       "1                       Worldwide  16%  30%    48%  67%\n",
       "2             In developing world   8%  21%  41.3%  60%\n",
       "3              In developed world  51%  67%    81%  93%"
      ]
     },
     "execution_count": 3,
     "metadata": {},
     "output_type": "execute_result"
    }
   ],
   "source": [
    "wwu"
   ]
  },
  {
   "cell_type": "code",
   "execution_count": 4,
   "id": "637f7317-20ab-48e7-b5d7-4e66f8010a3a",
   "metadata": {},
   "outputs": [],
   "source": [
    " wwu.to_csv('global_internet_usage.csv', index=False)"
   ]
  },
  {
   "cell_type": "markdown",
   "id": "a19f16fc-f7f9-452d-9764-f80e13063679",
   "metadata": {},
   "source": [
    "Why investing in social media advertising is essential."
   ]
  },
  {
   "cell_type": "code",
   "execution_count": null,
   "id": "71eb7164-f490-4896-aa5c-ce3e9e043069",
   "metadata": {},
   "outputs": [],
   "source": []
  },
  {
   "cell_type": "code",
   "execution_count": null,
   "id": "09bbd915-6698-4518-be5d-2cb2892ee3fa",
   "metadata": {},
   "outputs": [],
   "source": []
  },
  {
   "cell_type": "code",
   "execution_count": null,
   "id": "97b6b561-29b6-42ca-9525-df4ff9b52942",
   "metadata": {},
   "outputs": [],
   "source": []
  },
  {
   "cell_type": "code",
   "execution_count": null,
   "id": "192feeb3-bde9-4f6d-b388-7bf937e28546",
   "metadata": {},
   "outputs": [],
   "source": []
  },
  {
   "cell_type": "markdown",
   "id": "9bf47c71-79d9-4631-a4da-64d66c5235ed",
   "metadata": {},
   "source": [
    "Number of worldwide internet users (percentage of population)."
   ]
  },
  {
   "cell_type": "code",
   "execution_count": null,
   "id": "4e227bd8-1118-4d1c-a2a2-c3b269e726ae",
   "metadata": {},
   "outputs": [],
   "source": []
  },
  {
   "cell_type": "markdown",
   "id": "c2b96e63-8762-46c3-8691-4c9fda416d11",
   "metadata": {},
   "source": [
    "Internet users by region."
   ]
  },
  {
   "cell_type": "code",
   "execution_count": null,
   "id": "48bbcc64-74b8-406c-8a34-c94eb4194ba4",
   "metadata": {},
   "outputs": [],
   "source": []
  },
  {
   "cell_type": "markdown",
   "id": "b9623f12-c522-4896-aca1-339b990c8ca4",
   "metadata": {},
   "source": [
    "The average time spent on social media each day. (line graph)"
   ]
  },
  {
   "cell_type": "code",
   "execution_count": null,
   "id": "1722585c-960d-4695-9b02-dee2f01b2592",
   "metadata": {},
   "outputs": [],
   "source": []
  },
  {
   "cell_type": "markdown",
   "id": "156f20d0-5631-4a13-93f4-8d5bf1b55399",
   "metadata": {},
   "source": [
    "Average daily social media session by platform."
   ]
  },
  {
   "cell_type": "code",
   "execution_count": null,
   "id": "f45ddcfc-62e7-4e65-b2ef-85257374fba8",
   "metadata": {},
   "outputs": [],
   "source": []
  },
  {
   "cell_type": "markdown",
   "id": "a5936ab6-023c-4447-9e80-9981430f1bea",
   "metadata": {},
   "source": [
    "Average time spent on each social media platform monthly."
   ]
  },
  {
   "cell_type": "code",
   "execution_count": null,
   "id": "da3d7d1e-76dd-489b-a2a4-d0f652cde4f4",
   "metadata": {},
   "outputs": [],
   "source": []
  },
  {
   "cell_type": "markdown",
   "id": "648fbc75-34cb-4eb8-ac11-1bc0ea8d73c8",
   "metadata": {},
   "source": [
    "Average daily time spent on social media by age group (in hours)."
   ]
  },
  {
   "cell_type": "code",
   "execution_count": null,
   "id": "6090537c-d48e-40bb-8297-e8aad688ac47",
   "metadata": {},
   "outputs": [],
   "source": []
  },
  {
   "cell_type": "markdown",
   "id": "548d565a-cb7d-4c2a-8c06-d553c0935a98",
   "metadata": {},
   "source": [
    "How many people use social media by year. 2019-2024"
   ]
  },
  {
   "cell_type": "code",
   "execution_count": null,
   "id": "3e701166-ca31-44df-9925-621e46fb5577",
   "metadata": {},
   "outputs": [],
   "source": []
  },
  {
   "cell_type": "markdown",
   "id": "5d8591ab-66ea-4085-a005-7b0610ddd136",
   "metadata": {},
   "source": [
    "How many projected users will there be? 2025-2028"
   ]
  },
  {
   "cell_type": "code",
   "execution_count": null,
   "id": "606ca79a-a5f3-4235-b67a-0be602f69ca5",
   "metadata": {},
   "outputs": [],
   "source": []
  },
  {
   "cell_type": "markdown",
   "id": "8bec0a53-c9a5-43a2-a0bc-6708ef1f0805",
   "metadata": {},
   "source": [
    "Why do people use social media?"
   ]
  },
  {
   "cell_type": "code",
   "execution_count": null,
   "id": "277a61dd-6f34-463c-bd28-a9c004de10e7",
   "metadata": {},
   "outputs": [],
   "source": []
  },
  {
   "cell_type": "code",
   "execution_count": null,
   "id": "adfdf7fc-c426-4037-a36a-be873305bfc2",
   "metadata": {},
   "outputs": [],
   "source": []
  },
  {
   "cell_type": "code",
   "execution_count": null,
   "id": "0623a7a2-b527-4ea1-ae66-b43072670bfd",
   "metadata": {},
   "outputs": [],
   "source": []
  },
  {
   "cell_type": "markdown",
   "id": "43106206-78bc-4389-9b52-b1069470cf4d",
   "metadata": {},
   "source": [
    "Sources\n",
    "Global daily social media usage 2024 | Statista\n",
    "Digital 2024: Global Overview Report — DataReportal\n",
    "Number of worldwide social network users 2028 | Statista\n",
    "Social network penetration worldwide 2028 | Statista\n",
    "\n",
    " \"Measuring digital development: Facts and figures 2023\". Telecommunication Development Bureau, International Telecommunication Union (ITU). Retrieved 2024-06-14.\n",
    " \"Total Midyear Population for the World: 1950-2050\"\". International Programs Center for Demographic and Economic Studies, U.S. Census Bureau. Archived from the original on 2017-04-17. Retrieved 2020-02-28."
   ]
  },
  {
   "cell_type": "code",
   "execution_count": null,
   "id": "485396df-cfb5-40d1-8a85-02728b538706",
   "metadata": {},
   "outputs": [],
   "source": []
  }
 ],
 "metadata": {
  "kernelspec": {
   "display_name": "Python 3 (ipykernel)",
   "language": "python",
   "name": "python3"
  },
  "language_info": {
   "codemirror_mode": {
    "name": "ipython",
    "version": 3
   },
   "file_extension": ".py",
   "mimetype": "text/x-python",
   "name": "python",
   "nbconvert_exporter": "python",
   "pygments_lexer": "ipython3",
   "version": "3.11.7"
  }
 },
 "nbformat": 4,
 "nbformat_minor": 5
}

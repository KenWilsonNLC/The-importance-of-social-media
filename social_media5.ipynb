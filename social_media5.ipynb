{
 "cells": [
  {
   "cell_type": "code",
   "execution_count": 1,
   "id": "1d0f9768-2c73-449f-a1f0-ec6e398e3bc2",
   "metadata": {},
   "outputs": [],
   "source": [
    "import requests\n",
    "from bs4 import BeautifulSoup\n",
    "import pandas as pd"
   ]
  },
  {
   "cell_type": "code",
   "execution_count": 2,
   "id": "85b0b0e0-88bd-47c1-af4e-2f289f6b095f",
   "metadata": {},
   "outputs": [],
   "source": [
    "url = \"https://soax.com/research/time-spent-on-social-media\"\n",
    "\n",
    "response = requests.get(url)\n",
    "\n",
    "soup = BeautifulSoup(response.content, 'html.parser')\n",
    "\n",
    "tables = soup.find_all('table')\n",
    "fourth_table = tables[3]\n",
    "\n",
    "age_groups = []\n",
    "females = []\n",
    "males = []\n",
    "\n",
    "for row in fourth_table.find_all('tr')[1:]:\n",
    "    cols = row.find_all('td')\n",
    "    age_groups.append(cols[0].text.strip())\n",
    "    females.append(cols[1].text.strip())\n",
    "    males.append(cols[2].text.strip())\n",
    "\n",
    "data = {\n",
    "    'Age Group': age_groups,\n",
    "    'Female (hours)': females,\n",
    "    'Male (hours)': males,\n",
    "}\n",
    "\n",
    "age = pd.DataFrame(data)\n",
    "\n",
    "def convert_time_to_minutes(time_str):\n",
    "    hours, minutes = map(int, time_str.split(':'))\n",
    "    return hours * 60 + minutes\n",
    "\n",
    "age['Female (minutes)'] = age['Female (hours)'].apply(convert_time_to_minutes)\n",
    "age['Male (minutes)'] = age['Male (hours)'].apply(convert_time_to_minutes)"
   ]
  },
  {
   "cell_type": "code",
   "execution_count": 3,
   "id": "445eae1a-2302-46de-b807-81e2d0869e67",
   "metadata": {},
   "outputs": [
    {
     "data": {
      "text/html": [
       "<div>\n",
       "<style scoped>\n",
       "    .dataframe tbody tr th:only-of-type {\n",
       "        vertical-align: middle;\n",
       "    }\n",
       "\n",
       "    .dataframe tbody tr th {\n",
       "        vertical-align: top;\n",
       "    }\n",
       "\n",
       "    .dataframe thead th {\n",
       "        text-align: right;\n",
       "    }\n",
       "</style>\n",
       "<table border=\"1\" class=\"dataframe\">\n",
       "  <thead>\n",
       "    <tr style=\"text-align: right;\">\n",
       "      <th></th>\n",
       "      <th>Age Group</th>\n",
       "      <th>Female (hours)</th>\n",
       "      <th>Male (hours)</th>\n",
       "      <th>Female (minutes)</th>\n",
       "      <th>Male (minutes)</th>\n",
       "    </tr>\n",
       "  </thead>\n",
       "  <tbody>\n",
       "    <tr>\n",
       "      <th>0</th>\n",
       "      <td>16 - 24 years</td>\n",
       "      <td>2:59</td>\n",
       "      <td>2:32</td>\n",
       "      <td>179</td>\n",
       "      <td>152</td>\n",
       "    </tr>\n",
       "    <tr>\n",
       "      <th>1</th>\n",
       "      <td>25 - 34 years</td>\n",
       "      <td>2:48</td>\n",
       "      <td>2:31</td>\n",
       "      <td>168</td>\n",
       "      <td>151</td>\n",
       "    </tr>\n",
       "    <tr>\n",
       "      <th>2</th>\n",
       "      <td>35 - 44 years</td>\n",
       "      <td>2:21</td>\n",
       "      <td>2:17</td>\n",
       "      <td>141</td>\n",
       "      <td>137</td>\n",
       "    </tr>\n",
       "    <tr>\n",
       "      <th>3</th>\n",
       "      <td>45 - 54 years</td>\n",
       "      <td>2:10</td>\n",
       "      <td>1:52</td>\n",
       "      <td>130</td>\n",
       "      <td>112</td>\n",
       "    </tr>\n",
       "    <tr>\n",
       "      <th>4</th>\n",
       "      <td>55 - 64 years</td>\n",
       "      <td>1:46</td>\n",
       "      <td>1:31</td>\n",
       "      <td>106</td>\n",
       "      <td>91</td>\n",
       "    </tr>\n",
       "  </tbody>\n",
       "</table>\n",
       "</div>"
      ],
      "text/plain": [
       "       Age Group Female (hours) Male (hours)  Female (minutes)  Male (minutes)\n",
       "0  16 - 24 years           2:59         2:32               179             152\n",
       "1  25 - 34 years           2:48         2:31               168             151\n",
       "2  35 - 44 years           2:21         2:17               141             137\n",
       "3  45 - 54 years           2:10         1:52               130             112\n",
       "4  55 - 64 years           1:46         1:31               106              91"
      ]
     },
     "execution_count": 3,
     "metadata": {},
     "output_type": "execute_result"
    }
   ],
   "source": [
    "age"
   ]
  },
  {
   "cell_type": "code",
   "execution_count": null,
   "id": "2b53f07d-a80e-4ef3-badb-19fa08bf65c9",
   "metadata": {},
   "outputs": [],
   "source": []
  },
  {
   "cell_type": "code",
   "execution_count": null,
   "id": "f60c482b-7d00-46c5-9f51-afdad0fe4682",
   "metadata": {},
   "outputs": [],
   "source": []
  },
  {
   "cell_type": "code",
   "execution_count": null,
   "id": "dc5ae7f2-8c02-451a-8286-2703b2d7f83f",
   "metadata": {},
   "outputs": [],
   "source": []
  }
 ],
 "metadata": {
  "kernelspec": {
   "display_name": "Python 3 (ipykernel)",
   "language": "python",
   "name": "python3"
  },
  "language_info": {
   "codemirror_mode": {
    "name": "ipython",
    "version": 3
   },
   "file_extension": ".py",
   "mimetype": "text/x-python",
   "name": "python",
   "nbconvert_exporter": "python",
   "pygments_lexer": "ipython3",
   "version": "3.11.7"
  }
 },
 "nbformat": 4,
 "nbformat_minor": 5
}
